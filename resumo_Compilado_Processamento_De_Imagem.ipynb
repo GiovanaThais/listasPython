{
  "nbformat": 4,
  "nbformat_minor": 0,
  "metadata": {
    "colab": {
      "provenance": [],
      "include_colab_link": true
    },
    "kernelspec": {
      "name": "python3",
      "display_name": "Python 3"
    },
    "language_info": {
      "name": "python"
    }
  },
  "cells": [
    {
      "cell_type": "markdown",
      "metadata": {
        "id": "view-in-github",
        "colab_type": "text"
      },
      "source": [
        "<a href=\"https://colab.research.google.com/github/GiovanaThais/listasPython/blob/master/resumo_Compilado_Processamento_De_Imagem.ipynb\" target=\"_parent\"><img src=\"https://colab.research.google.com/assets/colab-badge.svg\" alt=\"Open In Colab\"/></a>"
      ]
    },
    {
      "cell_type": "code",
      "execution_count": null,
      "metadata": {
        "id": "bvb0ce89MqNN"
      },
      "outputs": [],
      "source": [
        "# Importando as bibliotecas e pacotes necessários\n",
        "import random\n",
        "import scipy.misc\n",
        "import numpy as np\n",
        "import cv2 as cv\n",
        "from PIL import Image\n",
        "import matplotlib.pyplot as plt\n",
        "from google.colab.patches import cv2_imshow\n",
        "from skimage import io\n",
        "from skimage import data\n",
        "from skimage.transform import resize, rotate\n",
        "from skimage.color import rgb2gray, rgb2gray\n",
        "from skimage.color import convert_colorspace\n",
        "from skimage.filters import threshold_otsu\n",
        "from scipy import ndimage"
      ]
    },
    {
      "cell_type": "code",
      "source": [
        "# Função que gera histograma\n",
        "def get_histogram(imagem, limite_cinza):\n",
        "  array = imagem.flatten()\n",
        "  hist = np.zeros(limite_cinza, dtype='int')\n",
        "  for i in range(0, len(array)):\n",
        "    hist[array[i]] += 1\n",
        "  return hist"
      ],
      "metadata": {
        "id": "vrFWVllBQDvh"
      },
      "execution_count": null,
      "outputs": []
    },
    {
      "cell_type": "code",
      "source": [
        "# Função que retorna imagem negativa\n",
        "def imagemNegativa(imagem):\n",
        "  img = -1 * imagem + 255\n",
        "  return img"
      ],
      "metadata": {
        "id": "RhK7HyFBQETn"
      },
      "execution_count": null,
      "outputs": []
    },
    {
      "cell_type": "code",
      "source": [
        "# Função da transformação Linear\n",
        "def transformacao_linear(imagem, g_min, g_max):\n",
        "  f_min = min(imagem.flatten())\n",
        "  f_max = max(imagem.flatten())\n",
        "\n",
        "  a = (g_max - g_min) / (f_max - f_min)\n",
        "  b = g_min\n",
        "\n",
        "  imagem = imagem - f_min\n",
        "\n",
        "  novaImagem = (a * imagem) + b\n",
        "\n",
        "  return np.uint8(novaImagem)"
      ],
      "metadata": {
        "id": "IQMVevDYQEVz"
      },
      "execution_count": null,
      "outputs": []
    },
    {
      "cell_type": "code",
      "source": [
        "# Função que aplica correlação na imagem\n",
        "def correlacao(img, img_corr, mascara):\n",
        "  img_correlacao = np.zeros(np.array(img.shape) + np.array(mascara.shape) - 1)\n",
        "\n",
        "  for x in range(mascara.shape[0]):\n",
        "    for y in range(mascara.shape[1]):\n",
        "      img_correlacao[x:x+img.shape[0], y:y+img.shape[1]] += img * mascara[x,y]\n",
        "\n",
        "      return img_correlacao.astype('uint8')"
      ],
      "metadata": {
        "id": "zk65eWKCQEYd"
      },
      "execution_count": null,
      "outputs": []
    },
    {
      "cell_type": "code",
      "source": [
        "# Função que aplica a convolução na imagem e funções agregadas\n",
        "\n",
        "def rotate_180(image):\n",
        "\n",
        "  size_image = image.shape\n",
        "  M = size_image[0]\n",
        "  N = size_image[1]\n",
        "\n",
        "  new_image = np.zeros((M,N))\n",
        "\n",
        "  for i in range (0, M):\n",
        "    for j in range(0, N):\n",
        "      new_image[(M-1)-i, (N-1)-j] = image[i,j]\n",
        "\n",
        "  return new_image\n",
        "\n",
        "def get_slice(point, size, image):\n",
        "\n",
        "  delta = int(size/2)\n",
        "\n",
        "  a = (point[0] - delta)\n",
        "  b = (point[1] - delta)\n",
        "\n",
        "  return image[a:(a+size), b:(b+size)]\n",
        "\n",
        "def convolucao(imagem, mascara):\n",
        "\n",
        "  size_imagem = imagem.shape\n",
        "  M = size_imagem[0]\n",
        "  N = size_imagem[1]\n",
        "\n",
        "  size_mascara = mascara.shape\n",
        "  m = size_mascara[0]\n",
        "  n = size_mascara[1]\n",
        "\n",
        "  nova_imagem = np.zeros(imagem.shape)\n",
        "\n",
        "  delta = int(m/2)\n",
        "\n",
        "  for i in range(0+delta, M-delta):\n",
        "    for j in range(0+delta, N-delta):\n",
        "      slice_imagem = get_slice((i,j), m, imagem)\n",
        "      mascara_180 = rotate_180(mascara)\n",
        "      new_i_j = np.sum(slice_imagem * mascara_180)\n",
        "      nova_imagem[i,j] = new_i_j\n",
        "\n",
        "  return nova_imagem"
      ],
      "metadata": {
        "id": "TlDaYyN0QEbz"
      },
      "execution_count": null,
      "outputs": []
    },
    {
      "cell_type": "code",
      "source": [
        "#Carrega e exibe a imagem\n",
        "img01 = cv.imread('/content/img01.jpg')\n",
        "\n",
        "cv2_imshow(img01)"
      ],
      "metadata": {
        "id": "fWxiJ-WPM8OB"
      },
      "execution_count": null,
      "outputs": []
    },
    {
      "cell_type": "code",
      "source": [
        "#Carrega e exibe a imagem\n",
        "img02 = cv.imread('img02.jpg')\n",
        "\n",
        "cv2_imshow(img02)"
      ],
      "metadata": {
        "id": "JCQQayZgOsDA"
      },
      "execution_count": null,
      "outputs": []
    },
    {
      "cell_type": "code",
      "source": [
        "# Gera o histograma com a função calcHist do openCV\n",
        "h = cv.calcHist([img01], [0], None, [256], [0,256])\n",
        "\n",
        "plt.figure()\n",
        "plt.title(\"Histograma Imagem Cinza\")\n",
        "plt.xlabel(\"Intensidade\")\n",
        "plt.ylabel(\"Quantidade de pixels\")\n",
        "\n",
        "plt.plot(h)\n",
        "plt.xlim([0,256])\n",
        "plt.show()"
      ],
      "metadata": {
        "id": "ScIEd60FO-t-"
      },
      "execution_count": null,
      "outputs": []
    },
    {
      "cell_type": "code",
      "source": [
        "# Exibe a Altura, largura e canais da imagem\n",
        "print('Altura  :',img01.shape[0])\n",
        "print('Largura :',img01.shape[1])\n",
        "print('Canais  :',img01.shape[2])"
      ],
      "metadata": {
        "colab": {
          "base_uri": "https://localhost:8080/"
        },
        "id": "u5b7ER_tQT9g",
        "outputId": "d7d2b056-c243-45c9-b012-8c38c5ef5415"
      },
      "execution_count": null,
      "outputs": [
        {
          "output_type": "stream",
          "name": "stdout",
          "text": [
            "Altura  : 961\n",
            "Largura : 741\n",
            "Canais  : 3\n"
          ]
        }
      ]
    },
    {
      "cell_type": "code",
      "source": [
        "# Maximo, Minimo, Média de pixels\n",
        "print('Maximo :',img01.max())\n",
        "print('Minimo :',img01.min())\n",
        "print('Média  :',img01.mean())"
      ],
      "metadata": {
        "colab": {
          "base_uri": "https://localhost:8080/"
        },
        "id": "7l_B88LSRiuk",
        "outputId": "4c58a371-59f0-4d81-a415-857cbee6ac8c"
      },
      "execution_count": null,
      "outputs": [
        {
          "output_type": "stream",
          "name": "stdout",
          "text": [
            "Maximo : 255\n",
            "Minimo : 0\n",
            "Média  : 47.85779124028755\n"
          ]
        }
      ]
    },
    {
      "cell_type": "code",
      "source": [
        "# Redimensiona o tamanho da imagem\n",
        "img01_re = resize(img01, (128, 128))\n",
        "plt.imshow(img01_re)\n",
        "plt.show() "
      ],
      "metadata": {
        "id": "sHhBtnzYSIIg"
      },
      "execution_count": null,
      "outputs": []
    },
    {
      "cell_type": "code",
      "source": [
        "# Rotaciona a imagem em um certo angulo\n",
        "img01_rot = rotate(img01, 90, resize=True)\n",
        "plt.imshow(img01_rot)\n",
        "plt.show() "
      ],
      "metadata": {
        "id": "vSneqlEbSTWq"
      },
      "execution_count": null,
      "outputs": []
    },
    {
      "cell_type": "code",
      "source": [
        "# Converte a imagem de RGB para HSV\n",
        "img02_cinza = cv.cvtColor(img02, cv.COLOR_BGR2GRAY)\n",
        "cv2_imshow(img02_cinza) "
      ],
      "metadata": {
        "id": "BbGdVJlLStXU"
      },
      "execution_count": null,
      "outputs": []
    },
    {
      "cell_type": "code",
      "source": [
        "# Gera o histograma da imagem\n",
        "h = cv.calcHist([img02_cinza], [0], None, [256], [0,256])\n",
        "\n",
        "plt.figure()\n",
        "plt.title(\"Histograma Imagem Cinza\")\n",
        "plt.xlabel(\"Intensidade\")\n",
        "plt.ylabel(\"Quantidade de pixels\")\n",
        "\n",
        "plt.plot(h)\n",
        "plt.xlim([0,256])\n",
        "plt.show()"
      ],
      "metadata": {
        "id": "Xg-YiWufTcr1"
      },
      "execution_count": null,
      "outputs": []
    },
    {
      "cell_type": "code",
      "source": [
        "# Converte a imagem de RGB para HSV\n",
        "img02_hsv = convert_colorspace(img02, 'RGB', 'HSV')\n",
        "plt.imshow(img02_hsv)\n",
        "plt.show() "
      ],
      "metadata": {
        "id": "vUT4GEXVTtub"
      },
      "execution_count": null,
      "outputs": []
    },
    {
      "cell_type": "code",
      "source": [
        "# Calculo de vizinhança 4\n",
        "def vizinhanca4(linha, coluna):\n",
        "    v1 = (linha - 1, coluna)\n",
        "    v2 = (linha, coluna - 1)\n",
        "    v3 = (linha + 1, coluna)\n",
        "    v4 = (linha, coluna + 1)\n",
        "\n",
        "    return [v1, v2, v3, v4]"
      ],
      "metadata": {
        "id": "iZK8EOqHeY1q"
      },
      "execution_count": null,
      "outputs": []
    },
    {
      "cell_type": "code",
      "source": [
        "# Calculo de vizinhança 8\n",
        "def vizinhanca8(linha, coluna):\n",
        "    v5 = (linha - 1, coluna - 1)\n",
        "    v6 = (linha - 1, coluna + 1)\n",
        "    v7 = (linha + 1, coluna - 1)\n",
        "    v8 = (linha + 1, coluna + 1)\n",
        "    \n",
        "    vizinhanca = vizinhanca4(linha, coluna) + [v5, v6, v7, v8]\n",
        "    return vizinhanca"
      ],
      "metadata": {
        "id": "eB0inPBtebPT"
      },
      "execution_count": null,
      "outputs": []
    },
    {
      "cell_type": "code",
      "source": [
        "# Encontrar os vizinhos dos pixels (5,5), (50,50), (100,100), (200,200), (250,250)\n",
        "\n",
        "v1 = vizinhanca8(5, 5)\n",
        "v2 = vizinhanca8(50, 50)\n",
        "v3 = vizinhanca8(100, 100)\n",
        "v4 = vizinhanca8(200, 200)\n",
        "v5 = vizinhanca8(250, 250)\n",
        "\n",
        "v_list = [v1,v2,v3,v4,v5]\n",
        "\n",
        "for i in v_list:\n",
        "  for j in i:\n",
        "    print(f\"Imagem 1 - pixel {j}: {img01[j[0]][j[1]]}\")"
      ],
      "metadata": {
        "colab": {
          "base_uri": "https://localhost:8080/"
        },
        "id": "8fnvXKVCefUG",
        "outputId": "912cf5e9-e06e-4054-e10b-15abc961ff77"
      },
      "execution_count": null,
      "outputs": [
        {
          "output_type": "stream",
          "name": "stdout",
          "text": [
            "Imagem 1 - pixel (4, 5): [6 6 6]\n",
            "Imagem 1 - pixel (5, 4): [7 7 7]\n",
            "Imagem 1 - pixel (6, 5): [6 6 6]\n",
            "Imagem 1 - pixel (5, 6): [6 6 6]\n",
            "Imagem 1 - pixel (4, 4): [7 7 7]\n",
            "Imagem 1 - pixel (4, 6): [6 6 6]\n",
            "Imagem 1 - pixel (6, 4): [7 7 7]\n",
            "Imagem 1 - pixel (6, 6): [6 6 6]\n",
            "Imagem 1 - pixel (49, 50): [7 7 7]\n",
            "Imagem 1 - pixel (50, 49): [6 6 6]\n",
            "Imagem 1 - pixel (51, 50): [9 9 9]\n",
            "Imagem 1 - pixel (50, 51): [7 7 7]\n",
            "Imagem 1 - pixel (49, 49): [9 9 9]\n",
            "Imagem 1 - pixel (49, 51): [8 8 8]\n",
            "Imagem 1 - pixel (51, 49): [11 11 11]\n",
            "Imagem 1 - pixel (51, 51): [9 9 9]\n",
            "Imagem 1 - pixel (99, 100): [16 16 16]\n",
            "Imagem 1 - pixel (100, 99): [15 15 15]\n",
            "Imagem 1 - pixel (101, 100): [15 15 15]\n",
            "Imagem 1 - pixel (100, 101): [20 20 20]\n",
            "Imagem 1 - pixel (99, 99): [16 16 16]\n",
            "Imagem 1 - pixel (99, 101): [16 16 16]\n",
            "Imagem 1 - pixel (101, 99): [11 11 11]\n",
            "Imagem 1 - pixel (101, 101): [21 21 21]\n",
            "Imagem 1 - pixel (199, 200): [24 24 24]\n",
            "Imagem 1 - pixel (200, 199): [18 18 18]\n",
            "Imagem 1 - pixel (201, 200): [10 10 10]\n",
            "Imagem 1 - pixel (200, 201): [15 15 15]\n",
            "Imagem 1 - pixel (199, 199): [22 22 22]\n",
            "Imagem 1 - pixel (199, 201): [14 14 14]\n",
            "Imagem 1 - pixel (201, 199): [14 14 14]\n",
            "Imagem 1 - pixel (201, 201): [13 13 13]\n",
            "Imagem 1 - pixel (249, 250): [17 17 17]\n",
            "Imagem 1 - pixel (250, 249): [19 19 19]\n",
            "Imagem 1 - pixel (251, 250): [21 21 21]\n",
            "Imagem 1 - pixel (250, 251): [18 18 18]\n",
            "Imagem 1 - pixel (249, 249): [17 17 17]\n",
            "Imagem 1 - pixel (249, 251): [18 18 18]\n",
            "Imagem 1 - pixel (251, 249): [20 20 20]\n",
            "Imagem 1 - pixel (251, 251): [18 18 18]\n"
          ]
        }
      ]
    },
    {
      "cell_type": "code",
      "source": [
        "img01_ruido = np.asarray(cv.imread('img01.jpg'))\n",
        "tamanho_img01 = img01_ruido.shape\n",
        "\n",
        "M = tamanho_img01[0]\n",
        "N = tamanho_img01[1]\n",
        "\n",
        "new_image = np.zeros((M, N), dtype='uint8')\n",
        "\n",
        "for i in range(0, M):\n",
        "  randomValues = random.sample(range(0, N), 40)\n",
        "  for value in randomValues:\n",
        "    img01_ruido[i, value] = 0\n",
        "plt.imshow(img01_ruido, cmap=\"gray\")\n",
        "plt.show()\n"
      ],
      "metadata": {
        "id": "-V9UtBjxeqth"
      },
      "execution_count": null,
      "outputs": []
    },
    {
      "cell_type": "code",
      "source": [
        "# Remove ruidos da imagem\n",
        "median_img01 = cv.medianBlur(img01, 5)\n",
        "plt.subplot(121), plt.imshow(img01_ruido), plt.title('Com ruído')\n",
        "plt.xticks([]), plt.yticks([])\n",
        "\n",
        "plt.subplot(122), plt.imshow(median_img01), plt.title('Sem ruído')\n",
        "plt.xticks([]), plt.yticks([])\n",
        "\n",
        "plt.show() "
      ],
      "metadata": {
        "id": "sorgbghHe8k4"
      },
      "execution_count": null,
      "outputs": []
    },
    {
      "cell_type": "code",
      "source": [
        "# Chama a função get_histogram()\n",
        "histograma_img01 = get_histogram(img01, 256)\n",
        "x_img01 = range(len(histograma_img01))\n",
        "y_img01 = histograma_img01\n",
        "\n",
        "histograma_img02 = get_histogram(img02, 256)\n",
        "x_img02 = range(len(histograma_img02))\n",
        "y_img02 = histograma_img02\n",
        "\n",
        "# Exibe o histograma em gráfico\n",
        "plt.clf()\n",
        "plt.figure(figsize=(15,5))\n",
        "\n",
        "plt.subplot(121)\n",
        "plt.plot(x_img01, y_img01)\n",
        "\n",
        "plt.subplot(122)\n",
        "plt.plot(x_img02, y_img02)\n"
      ],
      "metadata": {
        "id": "mirIcQxthcxg"
      },
      "execution_count": null,
      "outputs": []
    },
    {
      "cell_type": "code",
      "source": [
        "# Exibe a matriz do histograma\n",
        "print(histograma_contraste)"
      ],
      "metadata": {
        "id": "WxvzCeEWh17U"
      },
      "execution_count": null,
      "outputs": []
    },
    {
      "cell_type": "code",
      "source": [
        "# Utiliza a função que retorna a imagem negativa\n",
        "img01_neg = imagemNegativa(img01)\n",
        "cv2_imshow(img01_neg)"
      ],
      "metadata": {
        "id": "1ePh6JaGjBYb"
      },
      "execution_count": null,
      "outputs": []
    },
    {
      "cell_type": "code",
      "source": [
        "# Carrega a imagem na escala cinza\n",
        "img02_cinza = cv.cvtColor(img02, cv.COLOR_BGR2GRAY)\n",
        "cv2_imshow(img02_cinza) "
      ],
      "metadata": {
        "id": "dSLrRYNNmh_J"
      },
      "execution_count": null,
      "outputs": []
    },
    {
      "cell_type": "code",
      "source": [
        "# Aplica a função de transformação linear na imagem\n",
        "img02_linear = transformacao_linear(img02_cinza,0,255)\n",
        "\n",
        "cv2_imshow(img02_linear)"
      ],
      "metadata": {
        "id": "Bb9AZzGFmlcb"
      },
      "execution_count": null,
      "outputs": []
    },
    {
      "cell_type": "code",
      "source": [
        "# Chama a função get_histogram()\n",
        "histograma_img02_cinza = get_histogram(img02_cinza, 256)\n",
        "x_img02_cinza = range(len(histograma_img02_cinza))\n",
        "y_img02_cinza = histograma_img02_cinza\n",
        "\n",
        "histograma_img02_linear = get_histogram(img02_linear, 256)\n",
        "x_img01_linear = range(len(histograma_img02_linear))\n",
        "y_img01_linear = histograma_img02_linear\n",
        "\n",
        "# Exibe o histograma em gráfico\n",
        "plt.clf()\n",
        "plt.figure(figsize=(15,5))\n",
        "\n",
        "plt.subplot(121)\n",
        "plt.plot(x_img01, y_img01)\n",
        "\n",
        "plt.subplot(122)\n",
        "plt.plot(x_img01_linear, y_img01_linear)"
      ],
      "metadata": {
        "id": "sdSUEsOvlh6_"
      },
      "execution_count": null,
      "outputs": []
    },
    {
      "cell_type": "code",
      "source": [
        "# Gera o histograma equalizado pela função da biblioteca cv\n",
        "hist_eq_img02 = cv.equalizeHist(img02_cinza)\n",
        "\n",
        "plt.figure()\n",
        "plt.title('Histograma original equalizado')\n",
        "plt.xlabel('Intensidade')\n",
        "plt.ylabel('Quantidade de pixels')\n",
        "plt.hist(hist_eq_img02.ravel(), 256, [0,256])\n",
        "plt.xlim([0,256])\n",
        "plt.show()"
      ],
      "metadata": {
        "id": "C60Iewe9rqHb"
      },
      "execution_count": null,
      "outputs": []
    },
    {
      "cell_type": "code",
      "source": [
        "# Realiza a transformação por raiz quadrada\n",
        "img01_raiz = cv.imread('img01.jpg')\n",
        "\n",
        "# transforma a matriz em float para permitir valores negativos\n",
        "img_float_raiz = np.float32(img01_raiz)\n",
        "\n",
        "# aplica a transformação pela raiz quadrada\n",
        "img01_raiz = np.sqrt(img_float_raiz)\n",
        "\n",
        "# normaliza a matriz para o intervalo 0-255\n",
        "img_norm_raiz = cv.normalize(img01_raiz, None, 0, 255, cv.NORM_MINMAX)\n",
        "\n",
        "# converte de volta para um tipo inteiro de 8 bits\n",
        "img_final_raiz = np.uint8(img_norm_raiz)\n",
        "\n",
        "# exibe o resultado final\n",
        "cv2_imshow(img_final_raiz)\n"
      ],
      "metadata": {
        "id": "3bpVmi4os4Ga"
      },
      "execution_count": null,
      "outputs": []
    },
    {
      "cell_type": "code",
      "source": [
        "# Transformação por mapeamento quadrado\n",
        "img01_quad = cv.imread('img01.jpg')\n",
        "\n",
        "\n",
        "# transforma a matriz em float para permitir valores negativos\n",
        "img_float_quad = np.float32(img01_quad)\n",
        "\n",
        "# aplica a transformação pelo mapeamento quadrado\n",
        "img01_quad = img_float_quad ** 2\n",
        "\n",
        "# normaliza a matriz para o intervalo 0-255\n",
        "img_norm_quad = cv.normalize(img01_quad, None, 0, 255, cv.NORM_MINMAX)\n",
        "\n",
        "# converte de volta para um tipo inteiro de 8 bits\n",
        "img_final_quad = np.uint8(img_norm_quad)\n",
        "\n",
        "# exibe o resultado final\n",
        "cv2_imshow(img_final_quad)"
      ],
      "metadata": {
        "id": "O0evYALqtv8A"
      },
      "execution_count": null,
      "outputs": []
    },
    {
      "cell_type": "code",
      "source": [
        "# Gera o histograma da imagem por mapeamento e raiz, depois os compara\n",
        "histograma_img01_raiz = get_histogram(img_final_raiz, 256)\n",
        "x_img01_raiz = range(len(histograma_img01_raiz))\n",
        "y_img01_raiz = histograma_img01_raiz\n",
        "\n",
        "histograma_img01_quad = get_histogram(img_final_quad, 256)\n",
        "x_img01_quad = range(len(histograma_img01_quad))\n",
        "y_img01_quad = histograma_img01_quad\n",
        "\n",
        "# Exibe o histograma em gráfico\n",
        "plt.clf()\n",
        "plt.figure(figsize=(15,5))\n",
        "\n",
        "plt.subplot(121)\n",
        "plt.plot(x_img01_raiz, y_img01_raiz)\n",
        "\n",
        "plt.subplot(122)\n",
        "plt.plot(x_img01_quad, y_img01_quad)"
      ],
      "metadata": {
        "id": "HVDRYSE-uKIs"
      },
      "execution_count": null,
      "outputs": []
    },
    {
      "cell_type": "code",
      "source": [
        "# Aplica a função de correlação na imagem\n",
        "img01_corr = cv.imread('img01.jpg',0)\n",
        "img01_original = cv.imread('img01.jpg',0)\n",
        "\n",
        "mascara_corr = np.array([ [1,1,1], [1,1,1], [1,1,1] ])\n",
        "\n",
        "img01_correlacao = correlacao(img01_original,img01_corr,mascara_corr)\n",
        "\n",
        "cv2_imshow(img01_correlacao)\n"
      ],
      "metadata": {
        "id": "W2vzuPrKvH3e"
      },
      "execution_count": null,
      "outputs": []
    },
    {
      "cell_type": "code",
      "source": [
        "# Aplica a função de convolução na imagem\n",
        "mascara_conv = np.array([ [-1,0,1], [-2,1,2], [-1,0,1] ])\n",
        "\n",
        "img01_convolucao = convolucao(img01_original, mascara_conv)\n",
        "cv2_imshow(img01_convolucao)"
      ],
      "metadata": {
        "id": "15GTg4xmxsNc"
      },
      "execution_count": null,
      "outputs": []
    },
    {
      "cell_type": "code",
      "source": [
        "#Aplica o filtro de passa baixa : média\n",
        "\n",
        "h1 = 1/9 * np.ones((3,3), dtype='int')\n",
        "h2 = 1/25 * np.ones((5,5), dtype='int')\n",
        "h3 = 1/225 * np.ones((15,15), dtype='int')\n",
        "\n",
        "figure_size = 9\n",
        "img01_media_filtered = cv.blur(img01, (figure_size, figure_size))\n",
        "\n",
        "plt.figure(figsize=(11,6))\n",
        "plt.subplot(121)\n",
        "plt.imshow(img01)\n",
        "plt.title('Imagem original')\n",
        "plt.xticks([])\n",
        "plt.yticks([])\n",
        "\n",
        "plt.subplot(122)\n",
        "plt.imshow(img01_media_filtered)\n",
        "plt.xticks([])\n",
        "plt.yticks([])\n",
        "plt.title('Passa-baixa: media')\n",
        "\n",
        "plt.show()"
      ],
      "metadata": {
        "id": "Hnn4CYANyvIa"
      },
      "execution_count": null,
      "outputs": []
    },
    {
      "cell_type": "code",
      "source": [
        "# Aplica o filtro de passa-baixa : média ponderada\n",
        "\n",
        "img01_mediap_filtered = cv.filter2D(img01, -1, h1)\n",
        "\n",
        "plt.figure(figsize=(11,6))\n",
        "plt.subplot(121)\n",
        "plt.imshow(img01)\n",
        "plt.title('Imagem original')\n",
        "plt.xticks([])\n",
        "plt.yticks([])\n",
        "\n",
        "plt.subplot(122)\n",
        "plt.imshow(img01_mediap_filtered)\n",
        "plt.xticks([])\n",
        "plt.yticks([])\n",
        "plt.title('Passa-baixa: media ponderada')\n"
      ],
      "metadata": {
        "id": "zBOCz_OMzby4"
      },
      "execution_count": null,
      "outputs": []
    },
    {
      "cell_type": "code",
      "source": [
        "# Aplica o filtro de passa-baixa : moda\n",
        "\n",
        "kernel = np.ones((3, 3), np.float32) / 9\n",
        "\n",
        "# Definir o tamanho da janela do filtro de moda\n",
        "window_size = 5\n",
        "\n",
        "# Aplicar o filtro de moda na imagem\n",
        "img01_moda_filtered = ndimage.generic_filter(img01, np.nanmedian, size=window_size)\n",
        "\n",
        "\n",
        "plt.figure(figsize=(11,6))\n",
        "plt.subplot(121)\n",
        "plt.imshow(img01)\n",
        "plt.title('Imagem original')\n",
        "plt.xticks([])\n",
        "plt.yticks([])\n",
        "\n",
        "plt.subplot(122)\n",
        "plt.imshow(img01_moda_filtered)\n",
        "plt.xticks([])\n",
        "plt.yticks([])\n",
        "plt.title('Passa-baixa: moda')"
      ],
      "metadata": {
        "id": "W6LnkmfS0D7M"
      },
      "execution_count": null,
      "outputs": []
    },
    {
      "cell_type": "code",
      "source": [
        "# Aplica o filtor de passa-alta de Prewitt e de Roberts\n",
        "\n",
        "# Ler a imagem original\n",
        "img01_p_alta = cv.imread('img01.jpg', 0)\n",
        "\n",
        "# Definir as máscaras do filtro de Prewitt\n",
        "prewitt_x = np.array([[-1, 0, 1], [-1, 0, 1], [-1, 0, 1]])\n",
        "prewitt_y = np.array([[-1, -1, -1], [0, 0, 0], [1, 1, 1]])\n",
        "\n",
        "# Aplicar o filtro de Prewitt na imagem\n",
        "filtered_img_prewitt_x = cv.filter2D(img01_passa, -1, prewitt_x)\n",
        "filtered_img_prewitt_y = cv.filter2D(img01_passa, -1, prewitt_y)\n",
        "\n",
        "# Definir as máscaras do filtro de Roberts\n",
        "roberts_x = np.array([[0, 0, 0], [0, 1, 0], [0, 0, -1]])\n",
        "roberts_y = np.array([[0, 0, 0], [0, 0, 1], [0, -1, 0]])\n",
        "\n",
        "# Aplicar o filtro de Roberts na imagem\n",
        "filtered_img_roberts_x = cv.filter2D(img01_passa, -1, roberts_x)\n",
        "filtered_img_roberts_y = cv.filter2D(img01_passa, -1, roberts_y)\n",
        "\n",
        "# Exibir a imagem original e as imagens filtradas\n",
        "print('Imagem original')\n",
        "cv2_imshow(img01_passa)\n",
        "print('Imagem filtrada - Prewitt horizontal')\n",
        "cv2_imshow( filtered_img_prewitt_x)\n",
        "print('Imagem filtrada - Prewitt vertical')\n",
        "cv2_imshow( filtered_img_prewitt_y)\n",
        "print('Imagem filtrada - Roberts diagonal 1')\n",
        "cv2_imshow( filtered_img_roberts_x)\n",
        "print('Imagem filtrada - Roberts diagonal 2')\n",
        "cv2_imshow(filtered_img_roberts_y)\n"
      ],
      "metadata": {
        "id": "aFJ9PGz80dhI"
      },
      "execution_count": null,
      "outputs": []
    },
    {
      "cell_type": "code",
      "source": [
        "# Aplica o filtro de passa-alta de sobel\n",
        "\n",
        "sobelx = cv.Sobel(img01_p_alta, cv.CV_64F,1,0)\n",
        "sobely = cv.Sobel(img01_p_alta, cv.CV_64F,0,1)\n",
        "sobelxy = cv.Sobel(img01_p_alta, cv.CV_64F,1,1)\n",
        "\n",
        "print('Imagem original')\n",
        "cv2_imshow(img01_p_alta)\n",
        "\n",
        "print()\n",
        "\n",
        "print('Passa-alta: sobel')\n",
        "cv2_imshow(sobelxy)"
      ],
      "metadata": {
        "id": "hUCsGWAj1AUH"
      },
      "execution_count": null,
      "outputs": []
    }
  ]
}