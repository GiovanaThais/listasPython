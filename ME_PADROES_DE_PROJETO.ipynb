{
  "nbformat": 4,
  "nbformat_minor": 0,
  "metadata": {
    "colab": {
      "name": "ME_PADROES_DE_PROJETO.ipynb",
      "provenance": [],
      "collapsed_sections": [],
      "authorship_tag": "ABX9TyOgFy5SmCMt9CiEPuX4lO3m",
      "include_colab_link": true
    },
    "kernelspec": {
      "name": "python3",
      "display_name": "Python 3"
    },
    "language_info": {
      "name": "python"
    }
  },
  "cells": [
    {
      "cell_type": "markdown",
      "metadata": {
        "id": "view-in-github",
        "colab_type": "text"
      },
      "source": [
        "<a href=\"https://colab.research.google.com/github/GiovanaThais/listasPython/blob/master/ME_PADROES_DE_PROJETO.ipynb\" target=\"_parent\"><img src=\"https://colab.research.google.com/assets/colab-badge.svg\" alt=\"Open In Colab\"/></a>"
      ]
    },
    {
      "cell_type": "markdown",
      "metadata": {
        "id": "yXkaDcVZrYWE"
      },
      "source": [
        "**GIOVANA THAIS GONÇALVES CARVALHO ;\n",
        "PROGRAMAÇÃO AVANÇADA ;\n",
        "PADRÕES DE PROJETOS**"
      ]
    },
    {
      "cell_type": "markdown",
      "metadata": {
        "id": "HbXJRzxwr3YX"
      },
      "source": [
        "# **Padrão Builder**"
      ]
    },
    {
      "cell_type": "code",
      "metadata": {
        "id": "bNKdkuP9texv"
      },
      "source": [
        "from datetime import date\n",
        "\n",
        "\n",
        "class Item:\n",
        "    def __init__(self, descricao, valor):\n",
        "        self.__descricao = descricao\n",
        "        self.__valor = valor\n",
        "\n",
        "    @property\n",
        "    def descricao(self):\n",
        "        return self.__descricao\n",
        "\n",
        "    @property\n",
        "    def valor(self):\n",
        "        return self.__valor\n",
        "\n",
        "\n",
        "class NotaFiscal:\n",
        "    def __init__(\n",
        "        self,\n",
        "        razao_social,\n",
        "        cnpj,\n",
        "        itens,\n",
        "        data_de_emissao=date.today(),\n",
        "        detalhes='',\n",
        "    ):\n",
        "        self.__razao_social = razao_social\n",
        "        self.__cnpj = cnpj\n",
        "        self.__data_de_emissao = data_de_emissao\n",
        "        if len(detalhes) > 20:\n",
        "            raise Exception(\n",
        "                'Detalhes da nota fiscal nao pode ter mais que 20 chars'\n",
        "            )\n",
        "        self.__detalhes = detalhes\n",
        "        self.__itens = itens\n",
        "\n",
        "    @property\n",
        "    def razao_social(self):\n",
        "        return self.__razao_social\n",
        "\n",
        "    @property\n",
        "    def cnpj(self):\n",
        "        return self.__cnpj\n",
        "\n",
        "    @property\n",
        "    def data_de_emissao(self):\n",
        "        return self.__data_de_emissao\n",
        "\n",
        "    @property\n",
        "    def detalhes(self):\n",
        "        return self.__detalhes\n",
        "\n",
        "    @property\n",
        "    def itens(self):\n",
        "        return self.__itens\n",
        "\n",
        "\n",
        "if __name__ == '__main__':\n",
        "\n",
        "    from criador_de_nota_fiscal import CriadorNotaFiscal\n",
        "\n",
        "    itens = [Item('ITEM A', 100), Item('ITEM B', 200)]\n",
        "\n",
        "    nota_fiscal = NotaFiscal(\n",
        "        razao_social='FHSA Limitada',\n",
        "        cnpj='01928391827321',\n",
        "        itens=itens,\n",
        "        data_de_emissao=date.today(),\n",
        "        detalhes='',\n",
        "    )\n",
        "\n",
        "    nota_fiscal_criada_com_builder = (\n",
        "        CriadorNotaFiscal()\n",
        "        .com_razao_social('FHSA Limitada')\n",
        "        .com_cnpj('01928391827321')\n",
        "        .com_itens(itens)\n",
        "        .constroi()\n",
        "    )"
      ],
      "execution_count": null,
      "outputs": []
    },
    {
      "cell_type": "markdown",
      "metadata": {
        "id": "NOltn3dltfSh"
      },
      "source": [
        "# [**Padão prototype **]****"
      ]
    },
    {
      "cell_type": "code",
      "metadata": {
        "id": "AvqQIsMk-b92"
      },
      "source": [
        "import copy\n",
        "\n",
        "\n",
        "class Sheep:\n",
        "    def __init__(self, name, category='Mountain Sheep'):\n",
        "        self.name = name\n",
        "        self.category = category\n",
        "\n",
        "\n",
        "if __name__ == '__main__':\n",
        "    original_sheep = Sheep('Jolly')\n",
        "    print(original_sheep.name)\n",
        "    print(original_sheep.category)\n",
        "\n",
        "    cloned_sheep = copy.deepcopy(original_sheep)\n",
        "    cloned_sheep.name = 'Dolly'\n",
        "    print(cloned_sheep.name)\n",
        "    print(cloned_sheep.category)"
      ],
      "execution_count": null,
      "outputs": []
    },
    {
      "cell_type": "markdown",
      "metadata": {
        "id": "CfVh5ldqvspN"
      },
      "source": [
        "# **Padrão Mediator**"
      ]
    },
    {
      "cell_type": "code",
      "metadata": {
        "colab": {
          "base_uri": "https://localhost:8080/"
        },
        "id": "UwOrRK85vwcM",
        "outputId": "cb3e13f1-ddbf-486e-db29-60b63d25fad4"
      },
      "source": [
        "from abc import ABCMeta, abstractmethod\n",
        "from datetime import datetime\n",
        "\n",
        "class ChatRoomMediator(metaclass=ABCMeta):\n",
        "    @abstractmethod\n",
        "    def show_message(self, user, message):\n",
        "        pass\n",
        "class ChatRoom(ChatRoomMediator):\n",
        "    \"\"\"Mediator\"\"\"\n",
        "    def show_message(self, user, message):\n",
        "        time = datetime.now()\n",
        "        sender = user.name\n",
        "        print(f'{time} [{sender}]: {message}')\n",
        "class User:\n",
        "    def __init__(self, name, chat_mediator):\n",
        "        self.name = name\n",
        "        self.chat_mediator = chat_mediator\n",
        "\n",
        "    def send(self, message):\n",
        "        self.chat_mediator.show_message(self, message)\n",
        "\n",
        "if __name__ == '__main__':\n",
        "    mediator = ChatRoom()\n",
        "    john = User('John', mediator)\n",
        "    jane = User('Jane', mediator)\n",
        "    josh = User('Josh', mediator)\n",
        "\n",
        "    john.send('Hi there!')\n",
        "    jane.send('Hi!')\n",
        "    john.send('How are you?')\n",
        "    jane.send(\"I'm great, thanks!\")\n",
        "    josh.send('Hi guys!')"
      ],
      "execution_count": 1,
      "outputs": [
        {
          "output_type": "stream",
          "name": "stdout",
          "text": [
            "2021-10-03 20:03:49.101928 [John]: Hi there!\n",
            "2021-10-03 20:03:49.102133 [Jane]: Hi!\n",
            "2021-10-03 20:03:49.102172 [John]: How are you?\n",
            "2021-10-03 20:03:49.102207 [Jane]: I'm great, thanks!\n",
            "2021-10-03 20:03:49.102240 [Josh]: Hi guys!\n"
          ]
        }
      ]
    },
    {
      "cell_type": "markdown",
      "metadata": {
        "id": "rHRzAktcyaAb"
      },
      "source": [
        "# **Padrão Visitor**"
      ]
    },
    {
      "cell_type": "code",
      "metadata": {
        "id": "rvDQxjoMylDP"
      },
      "source": [
        "class Courses_At_GFG:\n",
        " \n",
        "    def accept(self, visitor):\n",
        "        visitor.visit(self)\n",
        " \n",
        "    def teaching(self, visitor):\n",
        "        print(self, \"Taught by \", visitor)\n",
        " \n",
        "    def studying(self, visitor):\n",
        "        print(self, \"studied by \", visitor)\n",
        " \n",
        " \n",
        "    def __str__(self):\n",
        "        return self.__class__.__name__\n",
        " \n",
        " \n",
        "\"\"\"Concrete Courses_At_GFG class: Classes being visited.\"\"\"\n",
        "class SDE(Courses_At_GFG): pass\n",
        " \n",
        "class STL(Courses_At_GFG): pass\n",
        " \n",
        "class DSA(Courses_At_GFG): pass\n",
        " \n",
        " \n",
        "\"\"\" Abstract Visitor class for Concrete Visitor classes\"\"\"\n",
        "class Visitor:\n",
        " \n",
        "    def __str__(self):\n",
        "        return self.__class__.__name__\n",
        " \n",
        " \n",
        "\"\"\" Concrete Visitors\"\"\"\n",
        "class Instructor(Visitor):\n",
        "    def visit(self, crop):\n",
        "        crop.teaching(self)\n",
        " \n",
        " \n",
        "class Student(Visitor):\n",
        "    def visit(self, crop):\n",
        "        crop.studying(self)\n",
        " \n",
        " \n",
        "\"\"\"creating objects for concrete classes\"\"\"\n",
        "sde = SDE()\n",
        "stl = STL()\n",
        "dsa = DSA()\n",
        " \n",
        "\"\"\"Creating Visitors\"\"\"\n",
        "instructor = Instructor()\n",
        "student = Student()\n",
        " \n",
        "\"\"\"Visitors visiting courses\"\"\"\n",
        "sde.accept(instructor)\n",
        "sde.accept(student)\n",
        " \n",
        "stl.accept(instructor)\n",
        "stl.accept(student)\n",
        " \n",
        "dsa.accept(instructor)\n",
        "dsa.accept(student)"
      ],
      "execution_count": null,
      "outputs": []
    },
    {
      "cell_type": "markdown",
      "metadata": {
        "id": "emogWyF9y5GE"
      },
      "source": [
        "# **Padrão flyweight**"
      ]
    },
    {
      "cell_type": "code",
      "metadata": {
        "id": "Q9QHqg6Jz0G0"
      },
      "source": [
        "class KarakTea:\n",
        "    def __init__(self, tea_type):\n",
        "        self.__tea_type = tea_type\n",
        "\n",
        "    @property\n",
        "    def tea_type(self):\n",
        "        return self.__tea_type\n",
        "\n",
        "\n",
        "class TeaMaker:\n",
        "    def __init__(self):\n",
        "        self.__available_tea = dict()\n",
        "\n",
        "    def make(self, preference):\n",
        "        if preference not in self.__available_tea:\n",
        "            self.__available_tea[preference] = KarakTea(preference)\n",
        "        return self.__available_tea[preference]\n",
        "\n",
        "\n",
        "class TeaShop:\n",
        "    def __init__(self, tea_maker):\n",
        "        self.__orders = dict()\n",
        "        self.__tea_maker = tea_maker\n",
        "\n",
        "    def take_order(self, tea_type, table):\n",
        "        if table not in self.__orders:\n",
        "            self.__orders[table] = list()\n",
        "        self.__orders[table].append(self.__tea_maker.make(tea_type))\n",
        "\n",
        "    def serve(self):\n",
        "        for table, orders in self.__orders.items():\n",
        "            print('Serving tea to table {}'.format(table))\n",
        "\n",
        "\n",
        "if __name__ == '__main__':\n",
        "    tea_maker = TeaMaker()\n",
        "    shop = TeaShop(tea_maker)\n",
        "\n",
        "    shop.take_order('red tea', 1)\n",
        "    shop.take_order('red tea more sugar', 2)\n",
        "    shop.take_order('red tea more milk', 3)\n",
        "\n",
        "    shop.serve()"
      ],
      "execution_count": null,
      "outputs": []
    },
    {
      "cell_type": "markdown",
      "metadata": {
        "id": "s2t22CKA0Kdl"
      },
      "source": [
        "# **Padrão Bridge**"
      ]
    },
    {
      "cell_type": "code",
      "metadata": {
        "id": "9OU9qSRu0QoX"
      },
      "source": [
        "from abc import ABCMeta, abstractmethod\n",
        "\n",
        "\n",
        "class Theme(metaclass=ABCMeta):\n",
        "    @abstractmethod\n",
        "    def color(self):\n",
        "        pass\n",
        "\n",
        "\n",
        "class DarkTheme(Theme):\n",
        "    def color(self):\n",
        "        return 'Dark Black'\n",
        "\n",
        "\n",
        "class LightTheme(Theme):\n",
        "    def color(self):\n",
        "        return 'Off White'\n",
        "\n",
        "\n",
        "class AquaTheme(Theme):\n",
        "    def color(self):\n",
        "        return 'Light Blue'\n",
        "\n",
        "\n",
        "class WebPage(metaclass=ABCMeta):\n",
        "    @abstractmethod\n",
        "    def content(self):\n",
        "        pass\n",
        "\n",
        "\n",
        "class About(WebPage):\n",
        "    def __init__(self, theme):\n",
        "        self.__theme = theme\n",
        "\n",
        "    def content(self):\n",
        "        return f'About page in {self.__theme.color()}'\n",
        "\n",
        "\n",
        "class Careers(WebPage):\n",
        "    def __init__(self, theme):\n",
        "        self.__theme = theme\n",
        "\n",
        "    def content(self):\n",
        "        return f'Careers page in {self.__theme.color()}'\n",
        "\n",
        "\n",
        "if __name__ == '__main__':\n",
        "    dark_theme = DarkTheme()\n",
        "\n",
        "    about = About(dark_theme)\n",
        "    careers = Careers(dark_theme)\n",
        "\n",
        "    print(about.content())\n",
        "    print(careers.content())"
      ],
      "execution_count": null,
      "outputs": []
    },
    {
      "cell_type": "markdown",
      "metadata": {
        "id": "wAqIALI01Lyp"
      },
      "source": [
        "# **Padrão decorator**"
      ]
    },
    {
      "cell_type": "code",
      "metadata": {
        "id": "BA-IBL7o1Qz1"
      },
      "source": [
        "from impostos import ICMS, ICPP, IKCV, ISS\n",
        "\n",
        "\n",
        "class CalculadorImpostos:\n",
        "    def realiza_calculo(self, orcamento, imposto):\n",
        "        imposto_calculado = imposto.calcula(orcamento)\n",
        "        print(imposto_calculado)\n",
        "\n",
        "\n",
        "if __name__ == '__main__':\n",
        "\n",
        "    from orcamento import Orcamento, Item\n",
        "\n",
        "    orcamento = Orcamento()\n",
        "\n",
        "    orcamento.adiciona_item(Item('item 0', 50.0))\n",
        "    orcamento.adiciona_item(Item('item 1', 200.0))\n",
        "    orcamento.adiciona_item(Item('item 2', 250.0))\n",
        "\n",
        "    calculador = CalculadorImpostos()\n",
        "\n",
        "    print('ISS e ICMS')\n",
        "    calculador.realiza_calculo(orcamento, ISS())\n",
        "    calculador.realiza_calculo(orcamento, ICMS())\n",
        "\n",
        "    print('ISS com ICMS')\n",
        "    calculador.realiza_calculo(orcamento, ISS(ICMS()))\n",
        "\n",
        "    print('ICPP e IKCV')\n",
        "    calculador.realiza_calculo(orcamento, ICPP())\n",
        "    calculador.realiza_calculo(orcamento, IKCV())\n",
        "\n",
        "    print('ICPP com IKCV')\n",
        "    calculador.realiza_calculo(orcamento, ICPP(IKCV()))\n",
        "    \n",
        "def IPVX(metodo_ou_funcao):\n",
        "    # Chama o calculo do imposto ISS, pega o resultado e soma com R$ 50,00\n",
        "    # O wrapper eh chamado antes do calcula do ISS\n",
        "    # Recebe o self do ISS, onde o decorator esta aplicado\n",
        "    # metodo_ou_funcao sera o metodo calcula\n",
        "    def wrapper(self, orcamento):\n",
        "        return metodo_ou_funcao(self, orcamento) + 50.0\n",
        "    return wrapper\n",
        "\n",
        "\n",
        "class ISS(Imposto):\n",
        "\n",
        "    @IPVX\n",
        "    def calcula(self, orcamento):\n",
        "\n",
        "        return orcamento.valor * 0.1 + self.calculo_do_outro_imposto(orcamento)\n"
      ],
      "execution_count": null,
      "outputs": []
    }
  ]
}